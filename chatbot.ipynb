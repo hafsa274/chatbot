{
 "cells": [
  {
   "cell_type": "code",
   "execution_count": 5,
   "id": "9de9922f-5748-4d63-92bb-1560127f6914",
   "metadata": {},
   "outputs": [
    {
     "name": "stderr",
     "output_type": "stream",
     "text": [
      "[nltk_data] Downloading package stopwords to\n",
      "[nltk_data]     C:\\Users\\ST\\AppData\\Roaming\\nltk_data...\n",
      "[nltk_data]   Unzipping corpora\\stopwords.zip.\n",
      "[nltk_data] Downloading package punkt to\n",
      "[nltk_data]     C:\\Users\\ST\\AppData\\Roaming\\nltk_data...\n",
      "[nltk_data]   Unzipping tokenizers\\punkt.zip.\n"
     ]
    },
    {
     "data": {
      "text/plain": [
       "True"
      ]
     },
     "execution_count": 5,
     "metadata": {},
     "output_type": "execute_result"
    }
   ],
   "source": [
    "import nltk\n",
    "nltk.download('stopwords')\n",
    "nltk.download('punkt')\n"
   ]
  },
  {
   "cell_type": "code",
   "execution_count": 7,
   "id": "3fc6157a-eb2b-427d-96e2-63c0532d3fed",
   "metadata": {},
   "outputs": [
    {
     "name": "stdout",
     "output_type": "stream",
     "text": [
      "Chatbot: Hello! Ask me anything about university admissions.\n"
     ]
    },
    {
     "name": "stdin",
     "output_type": "stream",
     "text": [
      "You:  What is the quota system in universities?\n"
     ]
    },
    {
     "name": "stdout",
     "output_type": "stream",
     "text": [
      "Chatbot: Deadlines vary by university and program. Check the official website of your preferred university for specific dates.\n"
     ]
    },
    {
     "name": "stdin",
     "output_type": "stream",
     "text": [
      "You:  What is the tuition fee structure in universities?\n"
     ]
    },
    {
     "name": "stdout",
     "output_type": "stream",
     "text": [
      "Chatbot: Deadlines vary by university and program. Check the official website of your preferred university for specific dates.\n"
     ]
    },
    {
     "name": "stdin",
     "output_type": "stream",
     "text": [
      "You:  Is there an application fee?\n"
     ]
    },
    {
     "name": "stdout",
     "output_type": "stream",
     "text": [
      "Chatbot: Deadlines vary by university and program. Check the official website of your preferred university for specific dates.\n"
     ]
    },
    {
     "name": "stdin",
     "output_type": "stream",
     "text": [
      "You:  exit\n"
     ]
    },
    {
     "name": "stdout",
     "output_type": "stream",
     "text": [
      "Chatbot: Goodbye!\n"
     ]
    }
   ],
   "source": [
    "import nltk\n",
    "from nltk.tokenize import word_tokenize\n",
    "from nltk.corpus import stopwords\n",
    "import string\n",
    "import json\n",
    "\n",
    "faqs = {\n",
    "    \"What are the eligibility criteria for university admissions?\": \"Eligibility criteria vary by country and university. Generally, applicants need a high school diploma or equivalent, specific subject requirements, and sometimes entrance exam scores.\",\n",
    "    \"How can I apply for university admission?\": \"You can apply online through the university's official portal or by submitting a paper application, depending on the institution.\",\n",
    "    \"What is the application deadline for universities?\": \"Deadlines vary by university and program. Check the official website of your preferred university for specific dates.\",\n",
    "    \"Is there an application fee?\": \"Yes, most universities charge an application fee, which varies by institution. It is usually mentioned on the admission portal.\",\n",
    "    \"Do universities offer scholarships?\": \"Yes, many universities offer need-based and merit-based scholarships. External organizations also provide funding opportunities.\",\n",
    "    \"What entrance exams are required for university admissions?\": \"Many universities require standardized tests such as SAT, ACT, GRE, GMAT, or country-specific entrance exams.\",\n",
    "    \"How can I check my admission status?\": \"You can check your status through the university's admission portal or by contacting the admissions office.\",\n",
    "    \"When will I receive my admission decision?\": \"Admission decisions are generally announced a few weeks after the application deadline.\",\n",
    "    \"Can I apply to multiple universities?\": \"Yes, you can apply to multiple universities, but each requires a separate application and fee.\",\n",
    "    \"What documents are required for admission?\": \"Common documents include identification, academic transcripts, recommendation letters, and standardized test scores.\",\n",
    "    \"Can international students apply to universities?\": \"Yes, international students can apply but may need additional documents such as language proficiency test scores and visa applications.\",\n",
    "    \"What is the tuition fee structure in universities?\": \"Tuition fees vary by university, program, and student category (local, international, self-financed). Check the university’s website for details.\",\n",
    "    \"How do I contact the admissions office?\": \"Most universities have a helpline, email support, or an admissions office on campus for queries.\",\n",
    "    \"Can I change my program after admission?\": \"Some universities allow program changes within a specific timeframe, subject to availability and eligibility.\",\n",
    "    \"Do universities offer evening or weekend programs?\": \"Yes, many universities offer evening or weekend programs for working professionals.\",\n",
    "    \"How do I apply for hostel accommodation?\": \"Most universities provide hostel application processes alongside admissions. Check with the student affairs office.\",\n",
    "    \"What is the process for evaluating foreign qualifications?\": \"You may need equivalency certificates from an educational authority to validate your qualifications.\",\n",
    "    \"Are there any age restrictions for university admissions?\": \"Most universities do not have strict age limits, except for specific programs like medicine or military-related degrees.\",\n",
    "    \"What is the self-finance scheme in universities?\": \"Self-finance allows students to pay a higher fee to secure admission without merit competition.\",\n",
    "    \"How do I transfer to another university?\": \"You need a migration certificate from your current university and must fulfill the transfer requirements of the new institution.\",\n",
    "    \"Do universities accept international school qualifications?\": \"Yes, but they may require equivalency certification to convert grades into the local system.\",\n",
    "    \"What is the admission process for online degree programs?\": \"Universities offering online degrees usually have digital applications and virtual learning platforms for students.\",\n",
    "    \"Can I apply for admission if I have a gap year?\": \"Yes, but some universities may ask for an explanation regarding the gap in education.\",\n",
    "    \"Are admission tests mandatory for all universities?\": \"Not all universities require entrance exams; some consider academic performance and other factors.\",\n",
    "    \"How do I prepare for university admission tests?\": \"Study past papers, use preparation guides, and consider coaching classes if necessary.\",\n",
    "    \"What is the quota system in universities?\": \"Some universities reserve seats for specific regions, minorities, and disadvantaged groups.\",\n",
    "    \"What happens after I receive my admission letter?\": \"You need to submit fees, register for courses, and attend orientation before starting classes.\"\n",
    "}\n",
    "\n",
    "# Preprocess function\n",
    "def preprocess_text(text):\n",
    "    text = text.lower()\n",
    "    text = text.translate(str.maketrans('', '', string.punctuation))\n",
    "    tokens = word_tokenize(text)\n",
    "    tokens = [word for word in tokens if word not in stopwords.words('english')]\n",
    "    return tokens\n",
    "\n",
    "# Chatbot response function\n",
    "def get_response(user_input):\n",
    "    user_tokens = preprocess_text(user_input)\n",
    "    for question, answer in faqs.items():\n",
    "        question_tokens = preprocess_text(question)\n",
    "        if set(user_tokens).intersection(set(question_tokens)):\n",
    "            return answer\n",
    "    return \"Sorry, I don't understand the question. Please try again.\"\n",
    "\n",
    "# Chat loop\n",
    "def chatbot():\n",
    "    print(\"Chatbot: Hello! Ask me anything about university admissions.\")\n",
    "    while True:\n",
    "        user_input = input(\"You: \")\n",
    "        if user_input.lower() in ['exit', 'quit', 'bye']:\n",
    "            print(\"Chatbot: Goodbye!\")\n",
    "            break\n",
    "        response = get_response(user_input)\n",
    "        print(f\"Chatbot: {response}\")\n",
    "\n",
    "if __name__ == \"__main__\":\n",
    "    chatbot()\n"
   ]
  },
  {
   "cell_type": "code",
   "execution_count": null,
   "id": "87c7f07e-17b1-4b6b-bff5-5e06dc94af01",
   "metadata": {},
   "outputs": [],
   "source": []
  }
 ],
 "metadata": {
  "kernelspec": {
   "display_name": "Python 3 (ipykernel)",
   "language": "python",
   "name": "python3"
  },
  "language_info": {
   "codemirror_mode": {
    "name": "ipython",
    "version": 3
   },
   "file_extension": ".py",
   "mimetype": "text/x-python",
   "name": "python",
   "nbconvert_exporter": "python",
   "pygments_lexer": "ipython3",
   "version": "3.12.4"
  }
 },
 "nbformat": 4,
 "nbformat_minor": 5
}
